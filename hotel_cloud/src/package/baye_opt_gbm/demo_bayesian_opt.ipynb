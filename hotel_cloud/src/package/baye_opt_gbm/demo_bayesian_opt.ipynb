{
 "cells": [
  {
   "cell_type": "code",
   "execution_count": 1,
   "metadata": {},
   "outputs": [],
   "source": [
    "import numpy as np\n",
    "import sys\n",
    "import os\n",
    "import matplotlib.pyplot as plt\n",
    "import copy\n",
    "import torch as tr\n",
    "\n",
    "# import scripts\n",
    "from src.bayes_opt import bayesian_optimiser\n",
    "from src.api_helper import api_utils\n",
    "from src.api_helper import env\n",
    "\n",
    "device = tr.device(\"cuda\" if tr.cuda.is_available() else \"cpu\")\n",
    "dtype = tr.float32"
   ]
  },
  {
   "cell_type": "markdown",
   "metadata": {},
   "source": [
    "##### data"
   ]
  },
  {
   "cell_type": "code",
   "execution_count": 17,
   "metadata": {},
   "outputs": [
    {
     "output_type": "stream",
     "name": "stdout",
     "text": [
      "init query tensor([[4., 4.]])\ninit reward tensor([[-1.]]), origin reward: 14409.00\n"
     ]
    }
   ],
   "source": [
    "@api_utils.transform\n",
    "def api(query): return env.rosenbrock(query)  # computation on cpu\n",
    "\n",
    "x0, y0 = tr.tensor([4, 4], dtype=dtype).view(1, -1), tr.tensor([[-1]], dtype=dtype).view(-1, 1)  \n",
    "r0 = env.rosenbrock(x0)  # initial reward on which normalisation based\n",
    "\n",
    "x0, y0= x0.to(device), y0.to(device)  # data in GPU\n",
    "\n",
    "print(\"init query\", x0); print(f\"init reward {api(x0, r0, device)}, origin reward: {r0.item():.2f}\")  # x,y stay on GPU while r0 in cpu"
   ]
  },
  {
   "cell_type": "markdown",
   "metadata": {},
   "source": [
    "##### OPT"
   ]
  },
  {
   "cell_type": "code",
   "execution_count": 18,
   "metadata": {},
   "outputs": [],
   "source": [
    "# hyperparameters\n",
    "T = 30  # total number of iterations\n",
    "\n",
    "# gp; includes \"MA2.5\", \"SE\", \"RQ\", \"LR\", \"PO\"\n",
    "gp_name, gp_params = \"MA2.5\",{\n",
    "                          \"mode\": \"raw\",      # \"raw\", \"add\", \"pro\" for GPs\n",
    "                          \"opt\":\"ADAM\",  # opt for MLE; (quasi_newton, ADAM)\n",
    "                          \"epochs\":128,       # epoch to run, if chosen ADAM\n",
    "                          \"lr\":1e-1,          # learning rate for ADAM\n",
    "                         }\n",
    "# q-parallelism (if use analytical acq_func, q must be 1)\n",
    "batch_size = 2\n",
    "\n",
    "acq_params = { \n",
    "    \"acq_name\" : \"qEI\",          # acqu func; includes: \"EI\", \"UCB\", \"qEI\", \"qUCB\", \"qKG\"\n",
    "    \"N_start\": 32,               # number of starts for multi-start SGA\n",
    "    \"raw_samples\" :512,          # heuristic initialisation \n",
    "    \"N_MC_sample\" : 256,         # number of samples for Monte Carlo simulation\n",
    "    \"num_fantasies\": 128,        # number of fantasies used by KG\n",
    "    \"beta\":1.,                   # used by UCB/qUCB\n",
    "               }\n",
    "\n",
    "bayes_opt = bayesian_optimiser(gp_name, gp_params, device, acq_params)"
   ]
  },
  {
   "cell_type": "code",
   "execution_count": 19,
   "metadata": {
    "scrolled": true
   },
   "outputs": [
    {
     "output_type": "stream",
     "name": "stdout",
     "text": [
      "NLML: -3.57\n",
      "Iter: 1, reward: -0.41\n",
      "NLML: 5.95\n",
      "Iter: 2, reward: -0.34\n",
      "NLML: -0.44\n",
      "Iter: 3, reward: -0.12\n",
      "NLML: -0.53\n",
      "Iter: 4, reward: -0.00\n",
      "NLML: -0.60\n",
      "Iter: 5, reward: -0.00\n",
      "NLML: -0.73\n",
      "Iter: 6, reward: -0.00\n",
      "NLML: -0.69\n",
      "Iter: 7, reward: -0.00\n",
      "NLML: -0.76\n",
      "Iter: 8, reward: -0.00\n",
      "NLML: -0.83\n",
      "Iter: 9, reward: -0.00\n",
      "NLML: -0.84\n",
      "Iter: 10, reward: -0.00\n",
      "NLML: -0.90\n",
      "Iter: 11, reward: -0.00\n",
      "NLML: -0.89\n",
      "Iter: 12, reward: -0.00\n",
      "NLML: -1.03\n",
      "Iter: 13, reward: -0.01\n",
      "NLML: -1.06\n",
      "Iter: 14, reward: -0.00\n",
      "NLML: -1.20\n",
      "Iter: 15, reward: -0.00\n",
      "NLML: -1.30\n",
      "Iter: 16, reward: -0.00\n",
      "NLML: -1.43\n",
      "Iter: 17, reward: -0.00\n",
      "NLML: -1.54\n",
      "Iter: 18, reward: -0.00\n",
      "NLML: -1.62\n",
      "Iter: 19, reward: -0.00\n",
      "NLML: -1.71\n",
      "Iter: 20, reward: -0.00\n",
      "NLML: -1.80\n",
      "Iter: 21, reward: -0.00\n",
      "NLML: -1.88\n",
      "Iter: 22, reward: -0.00\n",
      "NLML: -1.95\n",
      "Iter: 23, reward: -0.00\n",
      "NLML: -1.99\n",
      "Iter: 24, reward: -0.00\n",
      "NLML: -2.05\n",
      "Iter: 25, reward: -0.00\n",
      "NLML: -2.09\n",
      "Iter: 26, reward: -0.00\n",
      "NLML: -2.14\n",
      "Iter: 27, reward: -0.00\n",
      "NLML: -2.10\n",
      "Iter: 28, reward: -0.00\n",
      "NLML: -2.16\n",
      "Iter: 29, reward: -0.00\n",
      "NLML: -2.17\n",
      "Iter: 30, reward: -0.00\n",
      "CPU times: user 40.9 s, sys: 1min 22s, total: 2min 3s\n",
      "Wall time: 32 s\n"
     ]
    }
   ],
   "source": [
    "%%time\n",
    "xs, ys = bayes_opt.outer_loop(T, (-4,4),x0, y0, r0, api, batch_size)  # maximising reward"
   ]
  },
  {
   "cell_type": "code",
   "execution_count": 20,
   "metadata": {},
   "outputs": [
    {
     "output_type": "stream",
     "name": "stdout",
     "text": [
      "saving bo data\n"
     ]
    }
   ],
   "source": [
    "# from src.helper import helper\n",
    "# saver.standard_save(xs, ys, r0, \"bo\", \"./data/bo.pt\")"
   ]
  },
  {
   "cell_type": "code",
   "execution_count": null,
   "metadata": {},
   "outputs": [],
   "source": []
  }
 ],
 "metadata": {
  "kernelspec": {
   "display_name": "Python 3",
   "language": "python",
   "name": "python3"
  },
  "language_info": {
   "codemirror_mode": {
    "name": "ipython",
    "version": 3
   },
   "file_extension": ".py",
   "mimetype": "text/x-python",
   "name": "python",
   "nbconvert_exporter": "python",
   "pygments_lexer": "ipython3",
   "version": "3.8.3-final"
  }
 },
 "nbformat": 4,
 "nbformat_minor": 4
}